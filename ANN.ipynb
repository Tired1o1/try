{
 "cells": [
  {
   "cell_type": "code",
   "execution_count": null,
   "id": "034de007",
   "metadata": {},
   "outputs": [],
   "source": [
    "dfdadf"
   ]
  }
 ],
 "metadata": {
  "language_info": {
   "name": "python"
  }
 },
 "nbformat": 4,
 "nbformat_minor": 5
}
