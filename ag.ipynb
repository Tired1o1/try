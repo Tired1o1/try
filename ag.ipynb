{
 "cells": [
  {
   "cell_type": "code",
   "execution_count": null,
   "id": "56ad0440",
   "metadata": {},
   "outputs": [],
   "source": [
    "import nest_asyncio"
   ]
  }
 ],
 "metadata": {
  "language_info": {
   "name": "python"
  }
 },
 "nbformat": 4,
 "nbformat_minor": 5
}
